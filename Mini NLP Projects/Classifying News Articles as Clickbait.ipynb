{
 "cells": [
  {
   "cell_type": "markdown",
   "metadata": {},
   "source": [
    "# Classifying Political Tweets as Clickbait\n"
   ]
  },
  {
   "cell_type": "markdown",
   "metadata": {},
   "source": [
    "### Datasets \n",
    "- framing.p: 23.448 tweets by 501 different U.S. senators mentioning news articles from 13/08/2020 to 14/11/2020.\n",
    "- clickbait.csv: dataset containing titles labeled as clickbait/non-clickbait."
   ]
  },
  {
   "cell_type": "code",
   "execution_count": 1,
   "metadata": {},
   "outputs": [],
   "source": [
    "import pandas as pd\n",
    "import numpy as np\n",
    "from sklearn.model_selection import train_test_split\n",
    "from sklearn.feature_extraction.text import CountVectorizer\n",
    "from sklearn.linear_model import LogisticRegression\n",
    "from sklearn.metrics import classification_report\n",
    "import random\n",
    "import spacy\n",
    "from collections import Counter"
   ]
  },
  {
   "cell_type": "markdown",
   "metadata": {},
   "source": [
    "### Importing the Data"
   ]
  },
  {
   "cell_type": "markdown",
   "metadata": {},
   "source": [
    "First, I import the relevant datasets. I import the framing.p dataset and the clickbait.csv that I will use to train a model to classify the titles in the framing.p dataset as clickbait/non-clickbait."
   ]
  },
  {
   "cell_type": "code",
   "execution_count": 2,
   "metadata": {},
   "outputs": [],
   "source": [
    "df = pd.read_pickle('framing.p')\n",
    "\n",
    "DATASET_URL = 'https://gist.githubusercontent.com/amitness/0a2ddbcb61c34eab04bad5a17fd8c86b/raw/66ad13dfac4bd1201e09726677dd8ba8048bb8af/clickbait.csv'\n",
    "data = pd.read_csv(DATASET_URL)"
   ]
  },
  {
   "cell_type": "markdown",
   "metadata": {},
   "source": [
    "### Training the Model"
   ]
  },
  {
   "cell_type": "markdown",
   "metadata": {},
   "source": [
    "Next, to train the model that I will use to classify the titles as clickbait/non-clickbait, I split the data in a train and test set so I can evaluate its performance on the test set. Furthermore, I use CountVectorizer to vectorize the clickbait dataset to the Bag of Words model. Finally, I train a simple logistic regression model on the vectorized texts."
   ]
  },
  {
   "cell_type": "code",
   "execution_count": 3,
   "metadata": {
    "scrolled": true
   },
   "outputs": [
    {
     "data": {
      "text/plain": [
       "LogisticRegression()"
      ]
     },
     "execution_count": 3,
     "metadata": {},
     "output_type": "execute_result"
    }
   ],
   "source": [
    "X = list(data.title.values)\n",
    "y = list(data.label.values)\n",
    "labels = ['not clickbait', 'clickbait']\n",
    "\n",
    "X_train_str, X_test_str, y_train, y_test = train_test_split(X, y, test_size=0.2, random_state=1)\n",
    "\n",
    "cv = CountVectorizer() # this initializes the CountVectorizer \n",
    "\n",
    "cv.fit(X_train_str) # create the vocabulary\n",
    "\n",
    "X_train = cv.transform(X_train_str)\n",
    "X_test = cv.transform(X_test_str)\n",
    "\n",
    "lr = LogisticRegression(solver='lbfgs')\n",
    "lr.fit(X_train, y_train)"
   ]
  },
  {
   "cell_type": "markdown",
   "metadata": {},
   "source": [
    "### Evaluating the Model"
   ]
  },
  {
   "cell_type": "markdown",
   "metadata": {},
   "source": [
    "Subsequently, I evaluate the performance of the simple logistic regression model. As shown below, the model performs very well with an average f1-score 0.97. With this score, the model performs much better than the model based on randomly generated data. As its performance has been evaluated on a test set, it can be expected that this simple model will do well on unseen data. Furthermore, because of the high score, a more complex model or a different preprocessing approach will not be required."
   ]
  },
  {
   "cell_type": "code",
   "execution_count": 4,
   "metadata": {
    "scrolled": true
   },
   "outputs": [
    {
     "name": "stdout",
     "output_type": "stream",
     "text": [
      "               precision    recall  f1-score   support\n",
      "\n",
      "not clickbait       0.96      0.98      0.97      3178\n",
      "    clickbait       0.98      0.96      0.97      3220\n",
      "\n",
      "     accuracy                           0.97      6398\n",
      "    macro avg       0.97      0.97      0.97      6398\n",
      " weighted avg       0.97      0.97      0.97      6398\n",
      "\n",
      "               precision    recall  f1-score   support\n",
      "\n",
      "not clickbait       0.51      0.52      0.51      3178\n",
      "    clickbait       0.52      0.51      0.51      3220\n",
      "\n",
      "     accuracy                           0.51      6398\n",
      "    macro avg       0.51      0.51      0.51      6398\n",
      " weighted avg       0.51      0.51      0.51      6398\n",
      "\n"
     ]
    }
   ],
   "source": [
    "y_pred = lr.predict(X_test)\n",
    "\n",
    "print(classification_report(y_test, y_pred, \n",
    "                          target_names=labels))\n",
    "\n",
    "random_preds = [random.randint(0,1) for i in range(len(y_test))]\n",
    "\n",
    "print(classification_report(y_test, random_preds, \n",
    "                          target_names=labels))"
   ]
  },
  {
   "cell_type": "markdown",
   "metadata": {},
   "source": [
    "### Classifying the Titles"
   ]
  },
  {
   "cell_type": "markdown",
   "metadata": {},
   "source": [
    "Next, I classify the titles in framing.p using the logistic regression model that I just trained on the clickbait.csv data. I store the results in a new column in the dataframe of framing.p, with column name 'cb_label'."
   ]
  },
  {
   "cell_type": "code",
   "execution_count": 5,
   "metadata": {},
   "outputs": [],
   "source": [
    "new_examples = df.title\n",
    "new_examples_bow = cv.transform(new_examples)\n",
    "predictions = lr.predict(new_examples_bow)\n",
    "df['cb_label'] = predictions"
   ]
  },
  {
   "cell_type": "markdown",
   "metadata": {},
   "source": [
    "### Inspecting the Clickbait Titles"
   ]
  },
  {
   "cell_type": "markdown",
   "metadata": {},
   "source": [
    "Subsequently, I count the titles that were classified as clickbait for both the republicans and the democrats. Next, I print the first 30 clickbait titles for both the republicans and the democrats."
   ]
  },
  {
   "cell_type": "code",
   "execution_count": 6,
   "metadata": {
    "scrolled": false
   },
   "outputs": [
    {
     "name": "stdout",
     "output_type": "stream",
     "text": [
      "1058\n",
      "2830\n"
     ]
    }
   ],
   "source": [
    "print(df.cb_label[(df.party == 'R') & (df.cb_label == 1)].count())\n",
    "print(df.cb_label[(df.party == 'D') & (df.cb_label == 1)].count())"
   ]
  },
  {
   "cell_type": "code",
   "execution_count": 7,
   "metadata": {
    "scrolled": true
   },
   "outputs": [
    {
     "name": "stderr",
     "output_type": "stream",
     "text": [
      "C:\\Users\\Wouter\\anaconda3\\lib\\site-packages\\ipykernel_launcher.py:1: FutureWarning: Passing a negative integer is deprecated in version 1.0 and will not be supported in future version. Instead, use None to not limit the column width.\n",
      "  \"\"\"Entry point for launching an IPython kernel.\n"
     ]
    },
    {
     "data": {
      "text/plain": [
       "3      I just gave!                                                                                                                                                                                                                                  \n",
       "8      I just gave!                                                                                                                                                                                                                                  \n",
       "9      I just gave!                                                                                                                                                                                                                                  \n",
       "19     Everything You Need to Vote - Vote.org                                                                                                                                                                                                        \n",
       "21     I just gave to Doug Jones!                                                                                                                                                                                                                    \n",
       "30     Watch the 2020 #DemConvention August 17-20                                                                                                                                                                                                    \n",
       "262    A Black doctor died in childbirth, highlighting a tragic trend that affects pregnant women of color in the US                                                                                                                                 \n",
       "263    Why the Best G.D.P. Report Ever Wonât Mean the Economy Has Healed                                                                                                                                                                           \n",
       "264    Today is the last day to vote absentee in person, Today is the last day to vote absentee in person                                                                                                                                            \n",
       "269    DRA awards $27.9M to Black Belt communities - The Selma Times‑Journal                                                                                                                                                                         \n",
       "277    This Congressperson Wants to Rev Up Covid Testing                                                                                                                                                                                             \n",
       "279    The Century of the Woman                                                                                                                                                                                                                      \n",
       "289    ‘Caught in the middle’: 7 Black mayors on how they navigate relationships with police                                                                                                                                                         \n",
       "293    Have you seen him? Alabama State University sophomore Adam Dowdell missing                                                                                                                                                                    \n",
       "299    First Virtual Conference to Feature Rev. William Barber; Rep. Terri Sewell; Civil Rights Veteran Ruby Sales; Poet Sonia Sanchez, others; Celebrates 2020 Theme: \"African Americans and the Vote\" | ASALH - The Founders of Black History Month\n",
       "439    Coronavirus COVID-19 Testing Available in Arizona - Embry Women's Health, Coronavirus COVID-19 Testing Available in Arizona                                                                                                                   \n",
       "442    COVID-19 saliva testing                                                                                                                                                                                                                       \n",
       "450    'I'm so glad that I'm alive today': Robust contact tracing is saving lives of Apache tribal members                                                                                                                                           \n",
       "457    4 Phoenix-area mayors rolled up their sleeves for flu shots – here's how to get yours for free                                                                                                                                                \n",
       "468    Girls and Women in STEM                                                                                                                                                                                                                       \n",
       "Name: title, dtype: object"
      ]
     },
     "execution_count": 7,
     "metadata": {},
     "output_type": "execute_result"
    }
   ],
   "source": [
    "pd.set_option('display.max_colwidth', -1)\n",
    "df[(df.cb_label == 1) & (df.party == 'D')].title[:20]"
   ]
  },
  {
   "cell_type": "code",
   "execution_count": 8,
   "metadata": {
    "scrolled": true
   },
   "outputs": [
    {
     "data": {
      "text/plain": [
       "0      The 10 best US cities to move to if you want to retire early, where living costs are low and salaries are high                                                                                    \n",
       "39     Thank you Representative Bradley Byrne                                                                                                                                                            \n",
       "50     Fowler named to Top 30 Women of the Year list - Spring Hill College Athletics                                                                                                                     \n",
       "66     How Right Now                                                                                                                                                                                     \n",
       "101    Roby: God bless our veterans - Yellowhammer News, Roby: God bless our veterans                                                                                                                    \n",
       "102    Roby: COVID-19 will not shake our democracy - Yellowhammer News, Roby: COVID-19 will not shake our democracy                                                                                      \n",
       "105    Roby: Why our teachers make a difference - Yellowhammer News, Roby: Why our teachers make a difference                                                                                            \n",
       "106    13 Ala. counties, Poarch Band of Creek Indians now eligible for FEMA Public Assistance                                                                                                            \n",
       "110    Roby: We must work together to help prevent suicide - Yellowhammer News, Roby: We must work together to help prevent suicide                                                                      \n",
       "120    Roby: We will never forget - Yellowhammer News, Roby: We will never forget                                                                                                                        \n",
       "124    Roby: Now is the time to be vigilant - Yellowhammer News, Roby: Now is the time to be vigilant                                                                                                    \n",
       "127    U.S. Rep. Martha Roby: Celebrating 100 years of women’s suffrage - Yellowhammer News, U.S. Rep. Martha Roby: Celebrating 100 years of women’s suffrage                                            \n",
       "128    GOP Rep. Rogers: 'One of the Silver Linings in this Nightmare We're Going Through Is to Know Nancy Pelosi Could Be Thrown Overboard'                                                              \n",
       "131    GOP Rep. Rogers: If Biden Is Elected 'He Will Not Finish One Term' -- 'Kamala Harris Will Be the President'                                                                                       \n",
       "140    Hey, Alabama: Here’s how you can complete the Census                                                                                                                                              \n",
       "141    Rogers: Remembering 9/11 as we evaluate today's emerging threats - Yellowhammer News, Rogers: Remembering 9/11 as we evaluate today’s emerging threats                                            \n",
       "143    Remembering 9/11 as we evaluate today's emerging threats                                                                                                                                          \n",
       "177    WVNN Afternoons - Yaffee and LT talk with Congressman Mo Brooks about what could happen tomorrow, stimulus funds, and illegal immigration - 11-2-20                                               \n",
       "196    (9/28/20) M&A, Morsel - We spoke with Congressman Mo Brooks.                                                                                                                                      \n",
       "211    Former Auburn linebacker Eltoro Freeman: 'Tommy Tuberville is a man of true character' - Yellowhammer News, Former Auburn linebacker Eltoro Freeman: ‘Tommy Tuberville is a man of true character’\n",
       "Name: title, dtype: object"
      ]
     },
     "execution_count": 8,
     "metadata": {},
     "output_type": "execute_result"
    }
   ],
   "source": [
    "df[(df.cb_label == 1) & (df.party == 'R')].title[:20]"
   ]
  },
  {
   "cell_type": "markdown",
   "metadata": {},
   "source": [
    "When inspecting the first 20 titles classified as clickbait referred to by democrats, it can be noted that quite a few of the titles contain 'COVID-19'. When inspecting the first 30 titles classified as clickbait referred to by republicans this is less so. I will investigate this further by calculating the most common words for both parties' clickbait titles. To do this effectively, I lemmatize them first and remove stop words."
   ]
  },
  {
   "cell_type": "markdown",
   "metadata": {},
   "source": [
    "### Inspecting the Most Common Words in the Clickbait Titles"
   ]
  },
  {
   "cell_type": "code",
   "execution_count": 9,
   "metadata": {},
   "outputs": [
    {
     "name": "stdout",
     "output_type": "stream",
     "text": [
      "[('trump', 682), ('covid-19', 340), ('|', 247), ('need', 176), ('americans', 172), ('woman', 161), ('say', 151), ('black', 147), ('vote', 138), ('coronavirus', 134), ('pandemic', 125), ('opinion', 117), ('know', 115), ('die', 114), ('new', 111)]\n",
      "[('|', 200), ('trump', 137), ('covid-19', 102), ('america', 74), ('biden', 73), ('rep', 57), ('sen', 53), ('cruz', 51), ('say', 50), ('podcast', 48), ('vaccine', 47), ('people', 47), ('time', 45), ('vote', 44), ('barrett', 44)]\n"
     ]
    }
   ],
   "source": [
    "nlp = spacy.load(\"en_core_web_sm\")\n",
    "texts = df.title\n",
    "texts = [text.lower() for text in texts]\n",
    "processed_texts = [text for text in nlp.pipe(texts, \n",
    "                                             disable=[\"ner\",\n",
    "                                                      \"parser\"])]\n",
    "df['processed_texts'] = processed_texts\n",
    "processed_D = df[(df.cb_label == 1) & (df.party == 'D')].processed_texts\n",
    "processed_R = df[(df.cb_label == 1) & (df.party == 'R')].processed_texts\n",
    "\n",
    "lemmatized_D = [[token.lemma_ for token in text if not token.is_punct and not token.is_stop] for text in processed_D]\n",
    "lemmatized_R = [[token.lemma_ for token in text if not token.is_punct and not token.is_stop] for text in processed_R]\n",
    "\n",
    "flatten = lambda t: [item for sublist in t for item in sublist]\n",
    "word_counts_D = Counter(flatten(lemmatized_D))\n",
    "print(word_counts_D.most_common()[:15])\n",
    "word_counts_R = Counter(flatten(lemmatized_R))\n",
    "print(word_counts_R.most_common()[:15])"
   ]
  },
  {
   "cell_type": "markdown",
   "metadata": {},
   "source": [
    "Republicans referred to an article with a clickbait title 1058 times and democrats 2830 times. The most common words indicate that democrats refer to titles with 'COVID-19' or related words like 'coronavirus' and 'pandemic' much more often than republicans. Furthermore, democrats refer to titles with 'trump' much more often than republicans. Apparently, titles about Trump or COVID-19 are often classified as clickbait. \n",
    "\n",
    "This could explain why democrats refer to an article with a clickbait title much more often than republicans. Republicans may not be interested in responding to articles about COVID-19 or Trump because it is not in their political interest to express themselves about these topics. Therefore, as articles that are about COVID-19 and Trump are often classified as clickbait, the number of times they refer to a clickbait title will logically be lower than that of democrats, who do refer more often to articles about COVID-19 or Trump, perhaps because it may be in their political interest to do so. \n",
    "\n",
    "Furthermore, the data I trained the model on did not contain any titles about COVID-19 as examples, and, therefore, the model may not be very good at classifying examples with COVID-19 correctly, which could help explain why titles with COVID-19 are often classified as clickbait.\n"
   ]
  }
 ],
 "metadata": {
  "kernelspec": {
   "display_name": "Python 3",
   "language": "python",
   "name": "python3"
  },
  "language_info": {
   "codemirror_mode": {
    "name": "ipython",
    "version": 3
   },
   "file_extension": ".py",
   "mimetype": "text/x-python",
   "name": "python",
   "nbconvert_exporter": "python",
   "pygments_lexer": "ipython3",
   "version": "3.7.9"
  }
 },
 "nbformat": 4,
 "nbformat_minor": 4
}
